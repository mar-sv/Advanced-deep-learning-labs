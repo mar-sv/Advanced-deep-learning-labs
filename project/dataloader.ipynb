{
 "cells": [
  {
   "cell_type": "code",
   "execution_count": 26,
   "id": "56848f41",
   "metadata": {},
   "outputs": [
    {
     "name": "stdout",
     "output_type": "stream",
     "text": [
      "<torch.utils.data.dataloader.DataLoader object at 0x1484674d0>\n"
     ]
    },
    {
     "name": "stderr",
     "output_type": "stream",
     "text": [
      "Training: 100%|████████████████████████████████████████████████████████████████████████████████████████████████████████████████████████████████| 82/82 [03:03<00:00,  2.23s/batch]\n"
     ]
    }
   ],
   "source": [
    "import os\n",
    "import torch\n",
    "from torch.utils.data import DataLoader, Dataset\n",
    "from PIL import Image\n",
    "import torchvision.transforms as transforms\n",
    "from tqdm import tqdm \n",
    "\n",
    "class MyDataset(Dataset):\n",
    "    def __init__(self, data_dir):\n",
    "        self.data_dir = data_dir\n",
    "        self.classes = os.listdir(data_dir)  # training directories\n",
    "        self.images = []  \n",
    "        \n",
    "        # looping class directories\n",
    "        for class_dir in self.classes:\n",
    "            class_path = os.path.join(data_dir, class_dir)\n",
    "            if os.path.isdir(class_path):\n",
    "                # image files in class directory\n",
    "                image_files = [file for file in os.listdir(class_path) if file.endswith(('.jpg', '.jpeg', '.png'))]\n",
    "                # Append image paths and labels to the images list\n",
    "                self.images.extend([(os.path.join(class_path, image_file), class_dir) for image_file in image_files])\n",
    "    \n",
    "    def __len__(self):\n",
    "        return len(self.images)\n",
    "    \n",
    "    def __getitem__(self, idx):\n",
    "        image_path, label = self.images[idx]\n",
    "        try:\n",
    "            # Load image data from the file\n",
    "            with open(image_path, 'rb') as file:  # Open in binary mode\n",
    "                image = Image.open(file)  # Open the image\n",
    "                # Convert grayscale images to RGB format if needed\n",
    "                if image.mode != 'RGB':\n",
    "                    image = image.convert('RGB')\n",
    "                # resize and convertin to tensor\n",
    "                transform = transforms.Compose([\n",
    "                    transforms.Resize((256, 256)),  # Resize to a fixed size\n",
    "                    transforms.ToTensor(),  # Convert to PyTorch tensor\n",
    "                    transforms.Normalize(mean=[0.485, 0.456, 0.406], std=[0.229, 0.224, 0.225])  # Normalize \n",
    "                ])\n",
    "                tensor_image = transform(image)\n",
    "                return tensor_image, label\n",
    "        except Exception as e:\n",
    "            print(f\"Error loading data from {image_path}: {e}\")\n",
    "            return None, None\n",
    "\n",
    "data_path = \"train\" # Update directory path - preferrably put the code with the data\n",
    "\n",
    "# instance of custom dataset\n",
    "dataset = MyDataset(data_path)\n",
    "\n",
    "# parameters for DataLoader\n",
    "batch_size = 64\n",
    "shuffle = True\n",
    "num_workers = 0  # Adjust this based on your system's capabilities, 4 if system is good\n",
    "\n",
    "# DataLoader instance\n",
    "dataloader = DataLoader(dataset, batch_size=batch_size, shuffle=shuffle, num_workers=num_workers)\n",
    "\n",
    "# Iterate over batches of data\n",
    "for images, labels in tqdm(dataloader, desc=\"Training\", unit=\"batch\"):\n",
    "    # Process your image data batch here\n",
    "    pass"
   ]
  },
  {
   "cell_type": "code",
   "execution_count": null,
   "id": "8d509f85",
   "metadata": {},
   "outputs": [
    {
     "name": "stderr",
     "output_type": "stream",
     "text": [
      "Epoch 1/5: 100%|███████████████████████████████████████████████████████████████████████████████████████████████████████████████████████████████| 82/82 [12:24<00:00,  9.08s/batch]\n"
     ]
    },
    {
     "name": "stdout",
     "output_type": "stream",
     "text": [
      "Epoch 1/5, Loss: 0.6383\n"
     ]
    },
    {
     "name": "stderr",
     "output_type": "stream",
     "text": [
      "Epoch 2/5:  80%|██████████████████████████████████████████████████████████████████████████████████████████████████████▏                        | 66/82 [08:40<01:50,  6.89s/batch]"
     ]
    }
   ],
   "source": [
    "import torch.nn as nn\n",
    "import torch.optim as optim\n",
    "\n",
    "class CNNModel(nn.Module):\n",
    "    def __init__(self, num_classes):\n",
    "        super(CNNModel, self).__init__()\n",
    "        self.conv1 = nn.Conv2d(3, 32, kernel_size=3, padding=1)\n",
    "        self.conv2 = nn.Conv2d(32, 64, kernel_size=3, padding=1)\n",
    "        self.pool = nn.MaxPool2d(2, 2)\n",
    "        self.fc1 = nn.Linear(64 * 64 * 64, 128)  # image dimensions\n",
    "        self.fc2 = nn.Linear(128, num_classes)\n",
    "\n",
    "    def forward(self, x):\n",
    "        x = self.pool(torch.relu(self.conv1(x)))\n",
    "        x = self.pool(torch.relu(self.conv2(x)))\n",
    "        x = x.view(-1, 64 * 64 * 64)  # reshaping img dimensions\n",
    "        x = torch.relu(self.fc1(x))\n",
    "        x = self.fc2(x)\n",
    "        return x\n",
    "    \n",
    "# Initialize the model\n",
    "model = CNNModel(num_classes=len(dataset.classes))\n",
    "\n",
    "# Define loss function and optimizer\n",
    "criterion = nn.CrossEntropyLoss()\n",
    "optimizer = optim.Adam(model.parameters(), lr=0.001)\n",
    "\n",
    "# Train the model\n",
    "num_epochs = 5\n",
    "for epoch in range(num_epochs):\n",
    "    model.train()  # Set the model to training mode\n",
    "    running_loss = 0.0\n",
    "    for images, labels in tqdm(dataloader, desc=f\"Epoch {epoch+1}/{num_epochs}\", unit=\"batch\"):\n",
    "        optimizer.zero_grad()  # Zero the parameter gradients\n",
    "        outputs = model(images)  # Forward pass\n",
    "        loss = criterion(outputs, torch.tensor([dataset.classes.index(label) for label in labels]))  # Calculate the loss\n",
    "        loss.backward()  # Backward pass\n",
    "        optimizer.step()  # Optimize\n",
    "        running_loss += loss.item() * images.size(0)\n",
    "    epoch_loss = running_loss / len(dataset)\n",
    "    print(f\"Epoch {epoch+1}/{num_epochs}, Loss: {epoch_loss:.4f}\")\n",
    "\n",
    "print(\"Training finished.\")"
   ]
  }
 ],
 "metadata": {
  "kernelspec": {
   "display_name": "Python 3 (ipykernel)",
   "language": "python",
   "name": "python3"
  },
  "language_info": {
   "codemirror_mode": {
    "name": "ipython",
    "version": 3
   },
   "file_extension": ".py",
   "mimetype": "text/x-python",
   "name": "python",
   "nbconvert_exporter": "python",
   "pygments_lexer": "ipython3",
   "version": "3.11.5"
  }
 },
 "nbformat": 4,
 "nbformat_minor": 5
}
