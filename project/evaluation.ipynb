{
  "cells": [
    {
      "cell_type": "markdown",
      "source": [
        "# Model Evaluation"
      ],
      "metadata": {
        "id": "TB0nWIMVDiEr"
      },
      "id": "TB0nWIMVDiEr"
    },
    {
      "cell_type": "code",
      "execution_count": 18,
      "id": "Tdo2Vono2zDc",
      "metadata": {
        "colab": {
          "base_uri": "https://localhost:8080/"
        },
        "id": "Tdo2Vono2zDc",
        "outputId": "57ab9177-46c3-415c-9215-740317cd2607"
      },
      "outputs": [
        {
          "output_type": "stream",
          "name": "stdout",
          "text": [
            "Drive already mounted at /content/drive; to attempt to forcibly remount, call drive.mount(\"/content/drive\", force_remount=True).\n"
          ]
        }
      ],
      "source": [
        "from google.colab import drive\n",
        "drive.mount('/content/drive')"
      ]
    },
    {
      "cell_type": "markdown",
      "source": [
        "### Load test dataset and creatation of functions for evaluation of model"
      ],
      "metadata": {
        "id": "0MjB--akDrJF"
      },
      "id": "0MjB--akDrJF"
    },
    {
      "cell_type": "code",
      "source": [
        "import torch\n",
        "import torch.nn as nn\n",
        "import torch.nn.functional as F\n",
        "from torch.utils.data import DataLoader, Dataset, Subset\n",
        "from sklearn.metrics import confusion_matrix, accuracy_score, f1_score\n",
        "import numpy as np\n",
        "import matplotlib.pyplot as plt\n",
        "import seaborn as sns\n",
        "from PIL import Image\n",
        "import os\n",
        "import torchvision.transforms as transforms\n",
        "from sklearn.model_selection import train_test_split\n",
        "\n",
        "# Define the custom dataset\n",
        "class MyDataset(Dataset):\n",
        "    def __init__(self, data_dir):\n",
        "        self.data_dir = data_dir\n",
        "        self.classes = os.listdir(data_dir)\n",
        "        print(self.classes)  # training directories\n",
        "        self.class_to_idx = {cls_name: i for i, cls_name in enumerate(self.classes)}\n",
        "        self.images = []\n",
        "\n",
        "        for class_dir in self.classes:\n",
        "            class_path = os.path.join(data_dir, class_dir)\n",
        "            if os.path.isdir(class_path):\n",
        "                image_files = [f for f in os.listdir(class_path) if f.endswith(('.jpg', '.jpeg', '.png'))]\n",
        "                self.images.extend([(os.path.join(class_path, f), self.class_to_idx[class_dir]) for f in image_files])\n",
        "\n",
        "        self.transform = transforms.Compose([\n",
        "            transforms.Resize((256, 256)),  # Resize to a fixed size\n",
        "            transforms.Grayscale(),  # Convert images to grayscale\n",
        "            transforms.ToTensor(),  # Convert to PyTorch tensor\n",
        "            transforms.Normalize(mean=[0.5], std=[0.5])  # Normalize for grayscale images\n",
        "        ])\n",
        "\n",
        "    def __len__(self):\n",
        "        return len(self.images)\n",
        "\n",
        "    def __getitem__(self, idx):\n",
        "        image_path, label = self.images[idx]\n",
        "        try:\n",
        "            with open(image_path, 'rb') as file:\n",
        "                image = Image.open(file)\n",
        "                tensor_image = self.transform(image)\n",
        "                return tensor_image, label\n",
        "        except Exception as e:\n",
        "            print(f\"Error loading image {image_path}: {e}\")\n",
        "            raise ValueError('Path or data is wrong')\n",
        "\n",
        "def plot_confusion_matrix(cm, class_names):\n",
        "    plt.figure(figsize=(8, 6))\n",
        "    sns.heatmap(cm, annot=True, fmt=\"d\", cmap=\"Blues\", xticklabels=class_names, yticklabels=class_names)\n",
        "    plt.xlabel('Predicted')\n",
        "    plt.ylabel('True')\n",
        "    plt.title('Confusion Matrix')\n",
        "    plt.show()\n",
        "\n",
        "def test_model(model, device, test_loader):\n",
        "    model.eval()\n",
        "    criterion = nn.BCELoss()\n",
        "    test_loss = 0\n",
        "    all_preds = []\n",
        "    all_labels = []\n",
        "\n",
        "    with torch.no_grad():\n",
        "        for data, target in test_loader:\n",
        "            data, target = data.to(device), target.to(device)\n",
        "            output = model(data)\n",
        "            target = target.float().view(-1)  # Ensure target is the correct shape\n",
        "            output = output.view(-1)\n",
        "            test_loss += criterion(output, target).item()\n",
        "            preds = (output > 0.5).float().cpu().numpy()\n",
        "            labels = target.cpu().numpy()\n",
        "            all_preds.extend(preds)\n",
        "            all_labels.extend(labels)\n",
        "\n",
        "    test_loss /= len(test_loader.dataset)\n",
        "\n",
        "    all_preds = np.array(all_preds)\n",
        "    all_labels = np.array(all_labels)\n",
        "\n",
        "    cm = confusion_matrix(all_labels, all_preds)\n",
        "    accuracy = accuracy_score(all_labels, all_preds)\n",
        "    f1 = f1_score(all_labels, all_preds)\n",
        "\n",
        "    print(f'Accuracy: {accuracy:.4f}')\n",
        "    print(f'F1 Score: {f1:.4f}')\n",
        "    print('\\nTest set: Average loss: {:.4f}\\n'.format(test_loss))\n",
        "\n",
        "    class_names = ['NORMAL', 'PNEUMONIA']\n",
        "    plot_confusion_matrix(cm, class_names)\n",
        "\n",
        "    return test_loss, accuracy, f1, cm"
      ],
      "metadata": {
        "id": "m8_3FbxKEV_d"
      },
      "id": "m8_3FbxKEV_d",
      "execution_count": 24,
      "outputs": []
    },
    {
      "cell_type": "code",
      "source": [
        "# Define test data and DataLoader\n",
        "test_path = \"/content/drive/My Drive/test\"  # Update to your actual test path\n",
        "test_dataset = MyDataset(test_path)"
      ],
      "metadata": {
        "colab": {
          "base_uri": "https://localhost:8080/"
        },
        "id": "1g3BtACxGNEj",
        "outputId": "ce5f5268-f544-4d57-e201-84849ae800e5"
      },
      "id": "1g3BtACxGNEj",
      "execution_count": 25,
      "outputs": [
        {
          "output_type": "stream",
          "name": "stdout",
          "text": [
            "['NORMAL', 'PNEUMONIA']\n"
          ]
        }
      ]
    },
    {
      "cell_type": "markdown",
      "source": [
        "### Retrive saved model, apply it on test Dataset and evaluate using various metrics"
      ],
      "metadata": {
        "id": "JWWtvRmWXAQ6"
      },
      "id": "JWWtvRmWXAQ6"
    },
    {
      "cell_type": "code",
      "source": [
        "device = torch.device('cuda' if torch.cuda.is_available() else 'cpu')\n",
        "\n",
        "# Load the entire model\n",
        "model_path = '/content/drive/My Drive/best_model_2.pth'\n",
        "model = torch.load(model_path, map_location=device)\n",
        "model.eval()  # Set the model to evaluation mode\n",
        "\n",
        "test_loader = DataLoader(test_dataset, batch_size=64, shuffle=True)\n",
        "\n",
        "# Test the model and get metrics\n",
        "test_loss, test_accuracy, test_f1, cm = test_model(model, device, test_loader)"
      ],
      "metadata": {
        "colab": {
          "base_uri": "https://localhost:8080/",
          "height": 653
        },
        "id": "VcZV_p6LExze",
        "outputId": "8a35495a-aaa6-4aaf-c4be-cb2d61411809"
      },
      "id": "VcZV_p6LExze",
      "execution_count": 26,
      "outputs": [
        {
          "output_type": "stream",
          "name": "stdout",
          "text": [
            "Accuracy: 0.7788\n",
            "F1 Score: 0.8235\n",
            "\n",
            "Test set: Average loss: 0.0095\n",
            "\n"
          ]
        },
        {
          "output_type": "display_data",
          "data": {
            "text/plain": [
              "<Figure size 800x600 with 2 Axes>"
            ],
            "image/png": "[encoded data removed]"
          },
          "metadata": {}
        }
      ]
    }
  ],
  "metadata": {
    "colab": {
      "provenance": []
    },
    "kernelspec": {
      "display_name": "Python 3 (ipykernel)",
      "language": "python",
      "name": "python3"
    },
    "language_info": {
      "codemirror_mode": {
        "name": "ipython",
        "version": 3
      },
      "file_extension": ".py",
      "mimetype": "text/x-python",
      "name": "python",
      "nbconvert_exporter": "python",
      "pygments_lexer": "ipython3",
      "version": "3.10.12"
    }
  },
  "nbformat": 4,
  "nbformat_minor": 5
}